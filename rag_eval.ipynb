{
 "cells": [
  {
   "cell_type": "code",
   "execution_count": 2,
   "metadata": {},
   "outputs": [],
   "source": [
    "import pickle\n",
    "\n",
    "with open('./res/rag_data.pkl', 'rb') as f:\n",
    "    rag_data = pickle.load(f)\n",
    "# 저장된 rag_data.pickle을 읽기 모드로 열기"
   ]
  },
  {
   "cell_type": "code",
   "execution_count": 3,
   "metadata": {},
   "outputs": [
    {
     "data": {
      "text/html": [
       "<div>\n",
       "<style scoped>\n",
       "    .dataframe tbody tr th:only-of-type {\n",
       "        vertical-align: middle;\n",
       "    }\n",
       "\n",
       "    .dataframe tbody tr th {\n",
       "        vertical-align: top;\n",
       "    }\n",
       "\n",
       "    .dataframe thead th {\n",
       "        text-align: right;\n",
       "    }\n",
       "</style>\n",
       "<table border=\"1\" class=\"dataframe\">\n",
       "  <thead>\n",
       "    <tr style=\"text-align: right;\">\n",
       "      <th></th>\n",
       "      <th>questions</th>\n",
       "      <th>contexts</th>\n",
       "      <th>contexts_answer_idx</th>\n",
       "      <th>contexts_answers</th>\n",
       "      <th>answers</th>\n",
       "    </tr>\n",
       "  </thead>\n",
       "  <tbody>\n",
       "    <tr>\n",
       "      <th>0</th>\n",
       "      <td>글로벌 저금리 현상이 부각된 원인은 무엇인가요?</td>\n",
       "      <td>[... 변화의 동인은 크게 두 가지로 분류할\\n수 있다. 하나는 금융업계 전반에 ...</td>\n",
       "      <td>2</td>\n",
       "      <td>2. 뉴노멀의 도래(신 3저의 도래)\\n최근 코로나 사태를 포함하여 2008년 글로...</td>\n",
       "      <td>글로벌 저금리 현상이 부각된 원인은 여러 가지입니다. 첫째, 2008년 글로벌 금융...</td>\n",
       "    </tr>\n",
       "    <tr>\n",
       "      <th>1</th>\n",
       "      <td>고수익-고위험 부문으로의 쏠림현상에 대해 설명해주세요.</td>\n",
       "      <td>[... 둔갑하여 발생하였다. 쏠림현상을 해결할 수 있는 방법은, 원론적인 이\\n야...</td>\n",
       "      <td>1</td>\n",
       "      <td>축소되어 자산운용의 어려움이 가중\\n∙ 투자자 입장에서는 원하는 수익률을 얻기 어려...</td>\n",
       "      <td>고수익-고위험 부문으로의 쏠림현상은 투자자들이 더 높은 수익률을 추구하기 위해 위험...</td>\n",
       "    </tr>\n",
       "    <tr>\n",
       "      <th>2</th>\n",
       "      <td>20세기 이후 디지털화의 진전이 금융투자업의 사업모형과 산업구조에 어떤 영향을 미쳤...</td>\n",
       "      <td>[1. 디지털화의 진전과 금융투자업의 변화 : 20세기 이후\\n가. 1950~60년...</td>\n",
       "      <td>0</td>\n",
       "      <td>1. 디지털화의 진전과 금융투자업의 변화 : 20세기 이후\\n가. 1950~60년대...</td>\n",
       "      <td>20세기 이후 디지털화의 진전은 금융투자업의 사업모형과 산업구조에 큰 영향을 미쳤습...</td>\n",
       "    </tr>\n",
       "    <tr>\n",
       "      <th>3</th>\n",
       "      <td>2000년대 이후 글로벌 IB들이 어떤 전략을 추진하였나요?</td>\n",
       "      <td>[∙ 또한, 투자은행의 명성에 의존하는 대표적인 업무인 IPO, M&amp;A\\n등도 전산...</td>\n",
       "      <td>2</td>\n",
       "      <td>∙ 또한, 투자은행의 명성에 의존하는 대표적인 업무인 IPO, M&amp;A\\n등도 전산화...</td>\n",
       "      <td>2000년대 이후 글로벌 IB들은 스스로 전산화를 추진하였으며, 이와 밀접하게 연관...</td>\n",
       "    </tr>\n",
       "    <tr>\n",
       "      <th>4</th>\n",
       "      <td>금융시스템 개혁법은 언제 제정되었나요?</td>\n",
       "      <td>[...  금융소비자보호법 제정안 및 금융위설치법 개정안 141에 대해서 2. 주요...</td>\n",
       "      <td>2</td>\n",
       "      <td>및 일본 내 해외투자 수요를 포용하는데 적극적\\n일련의 변화과정에서 일본 금융당국의...</td>\n",
       "      <td>금융시스템 개혁법은 1998년에 제정되었습니다.</td>\n",
       "    </tr>\n",
       "    <tr>\n",
       "      <th>...</th>\n",
       "      <td>...</td>\n",
       "      <td>...</td>\n",
       "      <td>...</td>\n",
       "      <td>...</td>\n",
       "      <td>...</td>\n",
       "    </tr>\n",
       "    <tr>\n",
       "      <th>195</th>\n",
       "      <td>우리나라 은행들이 기업대출을 통해 외부자금을 필요로 하는 산업에 어떻게 기여하였나요?</td>\n",
       "      <td>[... 주무관청대신은\\n업종에 따라 경제산업성(제조업, 유통·소매업), 금융청(금...</td>\n",
       "      <td>2</td>\n",
       "      <td>... 긍정적인 측면과 부정적인 측면\\n∙ 우리나라 은행의 기업대출이 사업체 수 증...</td>\n",
       "      <td>우리나라 은행들은 기업대출을 통해 외부자금을 필요로 하는 산업에 자금을 효율적으로 ...</td>\n",
       "    </tr>\n",
       "    <tr>\n",
       "      <th>196</th>\n",
       "      <td>은행의 기업대출이 중소기업의 부가가치 성장에 어떻게 기여하였는지 설명해주세요.</td>\n",
       "      <td>[기존 중개업자가 수행하는 업무는 정의에서 제외되어 있기 때문에 기존\\n중개업자가 ...</td>\n",
       "      <td>1</td>\n",
       "      <td>... 데\\n은행의 기업대출 대부분도 중소기업대출이어서 과연 은행이 중소기업대출을\\...</td>\n",
       "      <td>은행의 기업대출이 중소기업의 부가가치 성장에 기여하는 방식은 크게 두 가지로 볼 수...</td>\n",
       "    </tr>\n",
       "    <tr>\n",
       "      <th>197</th>\n",
       "      <td>기업 저축의 역설에 대해 설명해주세요.</td>\n",
       "      <td>[... 개업 등록을 받을 수 없다. 따라서 예를 들어 은행대리업자가 예금 등 매개...</td>\n",
       "      <td>2</td>\n",
       "      <td>... 현재의 기업 저축률은 불필요하게 높은 수준일 가능성을 시사\\n4. 2004년...</td>\n",
       "      <td>기업 저축의 역설이란, 기업들이 지나치게 많은 자금을 저축하면서 경제의 역동성이 상...</td>\n",
       "    </tr>\n",
       "    <tr>\n",
       "      <th>198</th>\n",
       "      <td>명목 경제 성장률이 높은 것이 경기호황을 의미하는 이유는 무엇인가요?</td>\n",
       "      <td>[...  비해 명목 성장률이 특별히 높았던 기간이 아니었다. 50) 먼저 2001...</td>\n",
       "      <td>0</td>\n",
       "      <td>...  비해 명목 성장률이 특별히 높았던 기간이 아니었다. 50) 먼저 2001년...</td>\n",
       "      <td>명목 경제 성장률이 높다는 것은 경기가 호황인 상태를 의미합니다. 이는 경제가 활발...</td>\n",
       "    </tr>\n",
       "    <tr>\n",
       "      <th>199</th>\n",
       "      <td>대기업들의 중소기업에 대한 부당행위를 근절하면 어떤 긍정적인 효과가 있을까요?</td>\n",
       "      <td>[... \\n여전함을 적나라하게 보여 주고 있다. 62) 이러한 관행은 또한 중소기...</td>\n",
       "      <td>0</td>\n",
       "      <td>... \\n여전함을 적나라하게 보여 주고 있다. 62) 이러한 관행은 또한 중소기업...</td>\n",
       "      <td>대기업들의 중소기업에 대한 부당행위를 근절하면, 중소기업이 받아야 할 몫을 중소기업...</td>\n",
       "    </tr>\n",
       "  </tbody>\n",
       "</table>\n",
       "<p>200 rows × 5 columns</p>\n",
       "</div>"
      ],
      "text/plain": [
       "                                             questions  \\\n",
       "0                           글로벌 저금리 현상이 부각된 원인은 무엇인가요?   \n",
       "1                       고수익-고위험 부문으로의 쏠림현상에 대해 설명해주세요.   \n",
       "2    20세기 이후 디지털화의 진전이 금융투자업의 사업모형과 산업구조에 어떤 영향을 미쳤...   \n",
       "3                    2000년대 이후 글로벌 IB들이 어떤 전략을 추진하였나요?   \n",
       "4                                금융시스템 개혁법은 언제 제정되었나요?   \n",
       "..                                                 ...   \n",
       "195    우리나라 은행들이 기업대출을 통해 외부자금을 필요로 하는 산업에 어떻게 기여하였나요?   \n",
       "196        은행의 기업대출이 중소기업의 부가가치 성장에 어떻게 기여하였는지 설명해주세요.   \n",
       "197                              기업 저축의 역설에 대해 설명해주세요.   \n",
       "198             명목 경제 성장률이 높은 것이 경기호황을 의미하는 이유는 무엇인가요?   \n",
       "199        대기업들의 중소기업에 대한 부당행위를 근절하면 어떤 긍정적인 효과가 있을까요?   \n",
       "\n",
       "                                              contexts  contexts_answer_idx  \\\n",
       "0    [... 변화의 동인은 크게 두 가지로 분류할\\n수 있다. 하나는 금융업계 전반에 ...                    2   \n",
       "1    [... 둔갑하여 발생하였다. 쏠림현상을 해결할 수 있는 방법은, 원론적인 이\\n야...                    1   \n",
       "2    [1. 디지털화의 진전과 금융투자업의 변화 : 20세기 이후\\n가. 1950~60년...                    0   \n",
       "3    [∙ 또한, 투자은행의 명성에 의존하는 대표적인 업무인 IPO, M&A\\n등도 전산...                    2   \n",
       "4    [...  금융소비자보호법 제정안 및 금융위설치법 개정안 141에 대해서 2. 주요...                    2   \n",
       "..                                                 ...                  ...   \n",
       "195  [... 주무관청대신은\\n업종에 따라 경제산업성(제조업, 유통·소매업), 금융청(금...                    2   \n",
       "196  [기존 중개업자가 수행하는 업무는 정의에서 제외되어 있기 때문에 기존\\n중개업자가 ...                    1   \n",
       "197  [... 개업 등록을 받을 수 없다. 따라서 예를 들어 은행대리업자가 예금 등 매개...                    2   \n",
       "198  [...  비해 명목 성장률이 특별히 높았던 기간이 아니었다. 50) 먼저 2001...                    0   \n",
       "199  [... \\n여전함을 적나라하게 보여 주고 있다. 62) 이러한 관행은 또한 중소기...                    0   \n",
       "\n",
       "                                      contexts_answers  \\\n",
       "0    2. 뉴노멀의 도래(신 3저의 도래)\\n최근 코로나 사태를 포함하여 2008년 글로...   \n",
       "1    축소되어 자산운용의 어려움이 가중\\n∙ 투자자 입장에서는 원하는 수익률을 얻기 어려...   \n",
       "2    1. 디지털화의 진전과 금융투자업의 변화 : 20세기 이후\\n가. 1950~60년대...   \n",
       "3    ∙ 또한, 투자은행의 명성에 의존하는 대표적인 업무인 IPO, M&A\\n등도 전산화...   \n",
       "4    및 일본 내 해외투자 수요를 포용하는데 적극적\\n일련의 변화과정에서 일본 금융당국의...   \n",
       "..                                                 ...   \n",
       "195  ... 긍정적인 측면과 부정적인 측면\\n∙ 우리나라 은행의 기업대출이 사업체 수 증...   \n",
       "196  ... 데\\n은행의 기업대출 대부분도 중소기업대출이어서 과연 은행이 중소기업대출을\\...   \n",
       "197  ... 현재의 기업 저축률은 불필요하게 높은 수준일 가능성을 시사\\n4. 2004년...   \n",
       "198  ...  비해 명목 성장률이 특별히 높았던 기간이 아니었다. 50) 먼저 2001년...   \n",
       "199  ... \\n여전함을 적나라하게 보여 주고 있다. 62) 이러한 관행은 또한 중소기업...   \n",
       "\n",
       "                                               answers  \n",
       "0    글로벌 저금리 현상이 부각된 원인은 여러 가지입니다. 첫째, 2008년 글로벌 금융...  \n",
       "1    고수익-고위험 부문으로의 쏠림현상은 투자자들이 더 높은 수익률을 추구하기 위해 위험...  \n",
       "2    20세기 이후 디지털화의 진전은 금융투자업의 사업모형과 산업구조에 큰 영향을 미쳤습...  \n",
       "3    2000년대 이후 글로벌 IB들은 스스로 전산화를 추진하였으며, 이와 밀접하게 연관...  \n",
       "4                           금융시스템 개혁법은 1998년에 제정되었습니다.  \n",
       "..                                                 ...  \n",
       "195  우리나라 은행들은 기업대출을 통해 외부자금을 필요로 하는 산업에 자금을 효율적으로 ...  \n",
       "196  은행의 기업대출이 중소기업의 부가가치 성장에 기여하는 방식은 크게 두 가지로 볼 수...  \n",
       "197  기업 저축의 역설이란, 기업들이 지나치게 많은 자금을 저축하면서 경제의 역동성이 상...  \n",
       "198  명목 경제 성장률이 높다는 것은 경기가 호황인 상태를 의미합니다. 이는 경제가 활발...  \n",
       "199  대기업들의 중소기업에 대한 부당행위를 근절하면, 중소기업이 받아야 할 몫을 중소기업...  \n",
       "\n",
       "[200 rows x 5 columns]"
      ]
     },
     "execution_count": 3,
     "metadata": {},
     "output_type": "execute_result"
    }
   ],
   "source": [
    "import pandas as pd\n",
    "\n",
    "df = pd.DataFrame(rag_data)\n",
    "df"
   ]
  },
  {
   "cell_type": "code",
   "execution_count": null,
   "metadata": {},
   "outputs": [
    {
     "data": {
      "text/plain": [
       "'글로벌 저금리 현상이 부각된 원인은 무엇인가요?'"
      ]
     },
     "execution_count": 8,
     "metadata": {},
     "output_type": "execute_result"
    }
   ],
   "source": [
    "rag_data['questions'][0]\n",
    "#rag_data의 'questions'열의 첫번째 행의 값"
   ]
  },
  {
   "cell_type": "code",
   "execution_count": 12,
   "metadata": {},
   "outputs": [
    {
     "data": {
      "text/plain": [
       "'3. 문제점\\n1) 기업신용위험 평가항목의 적정성\\n글로벌 금융위기 이후 저금리 기조가 지속되었고, 최근 추가적으로\\n금리가 하락함에 따라 이자보상배율 등의 지표들이 기업의 부실을\\n측정하는 데 적정한 지표인지에 대한 검토가 필요\\n기업신용위험 정 ... 작용할 것으로 예상\\n저금리 기조가 지속되는 가운데 금융비용이 감소하여 이자보상배\\n율이 기업의 부실을 가늠하는 지표로 적합한지에 대해 의문이\\n발생\\n더불어 코로나19 사태로 인한 중소기업에 대한 금융권 대출 만기\\n연장 및 이자상환 유예조치로 이 ... 는 추세\\n이러한 졸업비율 감소 현상의 원인으로 저조한 경기의 영향이\\n있었던 것으로 추정되지만 개시연도를 기준으로 졸 ...'"
      ]
     },
     "execution_count": 12,
     "metadata": {},
     "output_type": "execute_result"
    }
   ],
   "source": [
    "rag_data['contexts'][0][1]"
   ]
  },
  {
   "cell_type": "code",
   "execution_count": 13,
   "metadata": {},
   "outputs": [
    {
     "data": {
      "text/plain": [
       "'... 변화의 동인은 크게 두 가지로 분류할\\n수 있다. 하나는 금융업계 전반에 부각되는 디지털화(digitalization)1)이고\\n다른 하나는 저금리·저성장으로 대표되는 뉴노멀(new normal)이다.  ... . 뉴노멀의 특징으로는 금융투자\\n및 자산운용의 어려움이 가중되는 경향, 고수익-고위험 부문으로의 쏠림\\n현상 등의 위험요인과 함께 자산관리서비스 수요의 증가 등 대응 노력을\\n살펴본다. 제III장은 디지털화 및 뉴노멀에 대응하는 해외 사례들을 살펴본다.  ... 뉴노멀의\\n주요 특징인 저성장, 저금리 등은 일본의 금융투자업계가 30년 전부터 고민해\\n온 문제이기 때문이다.  ... 제III장에서 살펴본 해외\\n사례들에서 살펴본 금융투자업계 변화의 규칙성이 어느 정도 유지될 것이라는\\n1 디지털화(digitalization)에 대한 ...'"
      ]
     },
     "execution_count": 13,
     "metadata": {},
     "output_type": "execute_result"
    }
   ],
   "source": [
    "rag_data['contexts'][0][0]"
   ]
  },
  {
   "cell_type": "code",
   "execution_count": 14,
   "metadata": {},
   "outputs": [],
   "source": [
    "from utils import get_embedding, cosine_similarity\n",
    "\n",
    "embed_q = get_embedding(rag_data['questions'][0])\n",
    "embed_c0 = get_embedding(rag_data['contexts'][0][0])\n",
    "embed_c1 = get_embedding(rag_data['contexts'][0][1])\n",
    "embed_c2 = get_embedding(rag_data['contexts'][0][2])\n",
    "#Dataframe의 각 데이터를 임베딩으로 변환"
   ]
  },
  {
   "cell_type": "code",
   "execution_count": 15,
   "metadata": {},
   "outputs": [
    {
     "name": "stdout",
     "output_type": "stream",
     "text": [
      "0.36210903416669354\n",
      "0.44104521085802917\n",
      "0.4154599195871476\n"
     ]
    }
   ],
   "source": [
    "print(cosine_similarity(embed_q, embed_c0))\n",
    "print(cosine_similarity(embed_q, embed_c1))\n",
    "print(cosine_similarity(embed_q, embed_c2))\n",
    "#question 임베딩과 context 임베딩 사이의 코사인 유사도를 구함."
   ]
  },
  {
   "cell_type": "code",
   "execution_count": 16,
   "metadata": {},
   "outputs": [
    {
     "data": {
      "text/plain": [
       "np.int64(2)"
      ]
     },
     "execution_count": 16,
     "metadata": {},
     "output_type": "execute_result"
    }
   ],
   "source": [
    "rag_data['contexts_answer_idx'][0]\n",
    "#'context_answer_idx' column 의 첫번째 행의 값을 64bit 정수 형태로 반환"
   ]
  },
  {
   "cell_type": "code",
   "execution_count": 17,
   "metadata": {},
   "outputs": [],
   "source": [
    "embed_q = get_embedding(rag_data['questions'][0], model='text-embedding-3-large')\n",
    "embed_c0 = get_embedding(rag_data['contexts'][0][0], model='text-embedding-3-large')\n",
    "embed_c1 = get_embedding(rag_data['contexts'][0][1], model='text-embedding-3-large')\n",
    "embed_c2 = get_embedding(rag_data['contexts'][0][2], model='text-embedding-3-large')\n",
    "#Dataframe의 각 데이터를 임베딩으로 변환하는데, 모델을 지정하여 수행"
   ]
  },
  {
   "cell_type": "code",
   "execution_count": 18,
   "metadata": {},
   "outputs": [
    {
     "name": "stdout",
     "output_type": "stream",
     "text": [
      "0.4088359818172236\n",
      "0.39288325841152233\n",
      "0.5339717607089124\n"
     ]
    }
   ],
   "source": [
    "print(cosine_similarity(embed_q, embed_c0))\n",
    "print(cosine_similarity(embed_q, embed_c1))\n",
    "print(cosine_similarity(embed_q, embed_c2))\n",
    "#question 임베딩과 context 임베딩 사이의 코사인 유사도를 구함."
   ]
  },
  {
   "cell_type": "code",
   "execution_count": null,
   "metadata": {},
   "outputs": [
    {
     "name": "stderr",
     "output_type": "stream",
     "text": [
      "100%|██████████| 10/10 [00:25<00:00,  2.59s/it]"
     ]
    },
    {
     "name": "stdout",
     "output_type": "stream",
     "text": [
      "Top context indices: [1, 1, 0, 1, 1, 1, 2, 0, 1, 1]\n"
     ]
    },
    {
     "name": "stderr",
     "output_type": "stream",
     "text": [
      "\n"
     ]
    }
   ],
   "source": [
    "from tqdm import tqdm\n",
    "\n",
    "num_questions = 10\n",
    "num_contexts = 3\n",
    "\n",
    "top_context_indices = []\n",
    "#\"top_context_indices\"라는 empty list 만들어줌.\n",
    "\n",
    "for i in tqdm(range(num_questions)):\n",
    "  embed_q = get_embedding(rag_data['questions'][i])\n",
    "  # i = 0 에서 9까지 반복하면서 \"embed_q\"에 ['questions'][i]를 임베딩으로 변환한 값을 저장.\n",
    "\n",
    "  similarities = []\n",
    "  #\"similarities\"라는 empty list 만들어줌.\n",
    "  for j in range(num_contexts):\n",
    "    embed_c = get_embedding(rag_data['contexts'][i][j])\n",
    "    #['contexts'][i]에 있는 각 데이터의 임베딩을 순차적으로 embed_c에 저장(j = 0 에서 2까지)\n",
    "    similarities.append(cosine_similarity(embed_q, embed_c))\n",
    "    #embed_q와 embed_c 사이의 코사인 유사도를 구하여 similarities list에 append. for문이 끝나면 \n",
    "    # similarities는 item 세 개짜리 리스트가 됨.\n",
    "\n",
    "  top_context_index = similarities.index(max(similarities))\n",
    "  # similarities list에서 최댓값을 찾은 후, 최댓값에 해당되는 인덱스를 반환.\n",
    "  top_context_indices.append(top_context_index)\n",
    "  # 각 행의 context 중 question과의 관련도가 가장 높은 데이터의 인덱스가 저장됨.\n",
    "\n",
    "print(f\"Top context indices: {top_context_indices}\")"
   ]
  },
  {
   "cell_type": "code",
   "execution_count": null,
   "metadata": {},
   "outputs": [
    {
     "data": {
      "text/plain": [
       "[np.int64(2),\n",
       " np.int64(1),\n",
       " np.int64(0),\n",
       " np.int64(2),\n",
       " np.int64(2),\n",
       " np.int64(1),\n",
       " np.int64(2),\n",
       " np.int64(2),\n",
       " np.int64(1),\n",
       " np.int64(1)]"
      ]
     },
     "execution_count": 10,
     "metadata": {},
     "output_type": "execute_result"
    }
   ],
   "source": [
    "rag_data['contexts_answer_idx'][:num_questions]\n",
    "#정답이 되는 인덱스 반환"
   ]
  },
  {
   "cell_type": "code",
   "execution_count": null,
   "metadata": {},
   "outputs": [
    {
     "name": "stdout",
     "output_type": "stream",
     "text": [
      "Accuracy: 60.00%\n"
     ]
    }
   ],
   "source": [
    "def calculate_accuracy(predicted, actual):\n",
    "  correct = sum (p == a for p, a in zip(predicted, actual))\n",
    "  #zip(p,a): p와 a의 요소를 하나씩 묶어 튜플 형성.\n",
    "  # if p == a then correct ++\n",
    "  total = len(predicted)\n",
    "\n",
    "  accuracy = correct / total\n",
    "  # p == a 인 items / 전체 items\n",
    "  return accuracy\n",
    "\n",
    "accuracy = calculate_accuracy(top_context_indices, rag_data['contexts_answer_idx'][:10])\n",
    "print(f\"Accuracy: {accuracy:.2%}\")"
   ]
  },
  {
   "cell_type": "markdown",
   "metadata": {},
   "source": [
    "### 정답 Context가 없는 경우\n",
    "- RAGAS\n",
    "  - GPT-4를 활용한 RAG 로직 평가용 라이브러리\n",
    "    - RAG 뿐만 아니라 LLM 단독 그리고 LLM + RAG 평가도 가능\n",
    "  - RAG 평가의 경우 정답 Context가 있어도 사용이 가능하지만 정답이 없는 경우에도 사용이 가능\n",
    "  - OpenAI에서도 RAG 로직 평가를 위해 사용 (OpenAI Dev Day)\n",
    "  - 기본으로 제공하는 평가용 System Prompt가 영문 기반이라 한글 평가는 상대적으로 정확도가 약간 떨어지는 편"
   ]
  },
  {
   "cell_type": "code",
   "execution_count": 23,
   "metadata": {},
   "outputs": [
    {
     "data": {
      "text/plain": [
       "[['3. 문제점\\n1) 기업신용위험 평가항목의 적정성\\n글로벌 금융위기 이후 저금리 기조가 지속되었고, 최근 추가적으로\\n금리가 하락함에 따라 이자보상배율 등의 지표들이 기업의 부실을\\n측정하는 데 적정한 지표인지에 대한 검토가 필요\\n기업신용위험 정 ... 작용할 것으로 예상\\n저금리 기조가 지속되는 가운데 금융비용이 감소하여 이자보상배\\n율이 기업의 부실을 가늠하는 지표로 적합한지에 대해 의문이\\n발생\\n더불어 코로나19 사태로 인한 중소기업에 대한 금융권 대출 만기\\n연장 및 이자상환 유예조치로 이 ... 는 추세\\n이러한 졸업비율 감소 현상의 원인으로 저조한 경기의 영향이\\n있었던 것으로 추정되지만 개시연도를 기준으로 졸 ...'],\n",
       " ['축소되어 자산운용의 어려움이 가중\\n∙ 투자자 입장에서는 원하는 수익률을 얻기 어려워 보다 높은 수익률을\\n추구하는 투자행태 ... 나. 고수익-고위험 부문으로 쏠림현상\\n금융회사, 가계 등의 수익률 추구 성향(search for yield)이 강화되어\\n위험자산으로 과도한 자금 유입이 발생할 수 있음.\\n∙ 저금리 기조 하에서는 투자자의 고수익 추구로 인해 고위험 파생상\\n품, 부동산금융 등 리스크가 큰 분야로의 쏠림현상 심화 가능성\\n∙ 사모펀드 부문의 빠른 성장, 파생상품 자산의 급증 등 개인의 투자위\\n험도 증가하는 추세\\n* 고수익-고위험 추구  ...  등)으로 기대수익률을 충족시키지\\n못해 고위험-고수익을 추구할 가능성 증가\\n∙ 개인 투자자들은 이에 대한 전문성 부족으로  ...'],\n",
       " ['1. 디지털화의 진전과 금융투자업의 변화 : 20세기 이후\\n가. 1950~60년대\\nMorrison and Wilhelm(2007), Jensen(1993) 등은 컴퓨터 기술의\\n발전과 디지털화의 진전이 금융투자업의 사업모형과 산업구조에 큰\\n영향을 끼치는 것은 20세기 중반 이후로 평가\\n1960년대 후반 소위 백오피스 위기를 거치면서 백오피스 업무, 거래소\\n거래 중심의 전산화가 가속 ... 1980년대 이후 2000년대\\n1980년대 이후 컴퓨터의 처리 속도가 비약적으로 빨라지고 컴퓨팅\\n비용이 하락하면서 투자은행의 고객관리,  ... 이 무렵 금융이론의 발전은 컴퓨터의 발전으로 실제로 구현되어 금융공\\n학, 파생상품 등의 기법 위주의 업무(프롭트레이딩, 리 ...'],\n",
       " ['... )). 이어 2005년경\\n에는 뉴욕, 런던 등 본사 업무를 지원하는 리서치, 투자분석 업무까지도\\n인도로 이전하였다. 이와 같은 2000년대 초중반의 리서치 업무의 전산화는 주로 글로벌 네트워\\n크를 구축하는 관점에서 매크로 수준의 리서치가 디지 ... 글로벌투자은행들은 아웃소싱을 통해 Dataminr, Visiblealpha 등과 같은\\n기업을 이용할 뿐만 아니라, 내부적으로도 다양한 기업분석 솔루션을 개발하\\n고 있다.  ... 바. 투자대상으로서의 디지털 산업\\n2000년대 이후 하나의 특징으로 글로벌 IB들은 스스로 전산화를 추진하고\\n보다 디지털화된 사업을 ... 2012년~2017년 상반기까지 미국 10대 투자은행들은 총 36억달러를 투자\\n했으며, 블록체인, 데이터 분석 등 기술기업뿐만 아니라 보험, 소 ...'],\n",
       " ['2006-04 자본시장 관련법 통합에 따른 금융법 통합의 기본방향과 주요과제, 2006.7./이지언. 구본성\\n2006-03 신용정보업의 현안과 정책 과제, 2006.6./정재욱. 이상제.  ... 이석호\\n2005-04 금융지주회사의 효율적 운용을 위한 제도개선 방안 연구, 2005.12/이건범.  ... 기업 구조개혁 종합평가-, 2003.6./이상제. 김우진\\n2003-04 전자금융거래법 제정방향, 2003.4./강임호\\n2003-03 합리적인 은행금리결정시스템 정착방안, 2003.3./김상환\\n2003-02 공적자금 회 ... 손상호\\n2001-04 은행 수수료체계 선진화 방안, 2001.12./이재연\\n2001-03 은행법 개정방안, 2001.12./강종만.  ... 이건범. 정재욱\\n2000-07 국경간(Cross-border) 금융서비스 거래 확대에 따른 규제 재정비 방안, 2000. 12./김정한\\n.차백인\\n2000-06 금융기관 퇴출제도의 개 ...  금융기관 인허가제도 개선방안, 1999.12./권재중'],\n",
       " ['성공적 디지털 전환을 위한 모든 전제조건이 충족되어 금융투자업\\n생태계 전반에서 디지털 전환이 빠르게 진행됨에 따라 금융투자업에\\n근본적·질적 변환이 발생\\n제도·경쟁구조·문화·기술적 여건들이 마치 빅뱅과도 같은 디지털\\n의 폭발적 확산과 ... 적인\\n제도적 환경의 구축에 나설 수밖에 없는 압력에 직면\\n∙ 디지털화의 진전으로 금융투자업에 있어 기술적·금전적 진입 ...  반강제적\\n으로 비대면(언택트)을 경험하면서 금융에서도 예상을 상회하는 속도\\n와 범위에서 디지털 전환이 진행\\n∙ 결과적으로 대면 업무가 반드시 필요하지 않은 거의 모든 분야와\\n프로세스가 디지털 방식으로 전환\\n∙ 대부분의 서비스는 플랫폼을  ...'],\n",
       " ['∙ 국내 투자자들의 직접적인 해외 금융투자업 상품·서비스 노출은\\n국내 금융투자업자들에게 경쟁력 제고 유인으로 작용\\n ... 라도 일부 디지털 채널을\\n활용한 시장개척 시도가 진행\\n∙ 국내 금융투자업자 해외진출의 경우, 개별 금융회사들의 전략적· ...  우리나라 금융투자업자들은 디지털 전환의 글로벌 리더보다는\\n패스트 팔로워에 머물 것으로 예상하고 있어 디지털 채널 기반의\\n서구 선진시장 진출에도 일정한 한계는 존재\\n금융투자업 생태계를 구성하는 참여자들의 본질이 현재와 근본적 차이\\n ... 로 재편\\n∙ 디지털 혁신과 신3저에 적응하여 생존한 금융투자업자들은 새로운\\n환경에 부합하는 경영모델, 상품과 서비스를  ...'],\n",
       " ['... 화 가능성이 낮아짐\\n에 따라 결국 소강상태에 진입\\n국내 금융투자업 시장의 국제 경쟁력이 떨어지는 상황에서 규제의\\n방 ... 를 통해\\n질적 변화를 경험한 선진 금융투자업 대비 경쟁력 열위가 불가피\\n∙ 신3저로 인해 국내 투자자들의 해외투자 유인 및 해외 금융투자업자\\n들의 상품·서비스 이용 유인이 강화되었으나, 이보다는 산업정책적\\n시각에 우선순위 부여\\n∙ 글로벌 스 ... 경쟁력\\n을 확보하지 못한 금융투자업자들의 해외진출은 한계에 봉착\\n∙ 국내 시장이 해외의 경쟁압력으로부터 보호받고 있는 상황에서 해외\\n진출이나 필요 역량 개발의 유인 자체가 제한적일 것으로 예상\\n금융투자업 생태계를 구성하는 참여자들의 구성은 현재 상황에서 크게'],\n",
       " ['달라지지 않았을 것으로 예상\\n∙ 소수의 대형 IB와 대형 자산운용사, 그리고 소수의 중소형 증권사\\n및 자산운용사로 재편\\n∙ 부분적 디지털 혁신으로 인해 금융산업 전반의 변화가 필요한 임계치\\n적 상황에 도달하지 못했고, 따라서 업권장벽 폐지 등 규제의 본질이\\n변화해야 할 필요성도 부각되지 않았을 것으로 예상\\n∙ 폐쇄적 영업환경을 감안하면 금융투자업 인프라에 대한 대대 ... 증권업\\n증권업의 경쟁의 범위는 확대되고 강도는 심화될 가능성\\n∙ 자산관리서비스는 모든 규모의 증권사에 걸쳐 주력 증권사 비즈니스\\n로 자리매김하고, 여타 업권, 테크기업 전반을 포괄하는 경쟁 구도로\\n발전할 전망\\n∙ 기업금융은 빅데이터 기 ...'],\n",
       " ['1) IB 부문\\n증권사 수익구조에서 IB 부문의 비중의 상승 추세는 당분간 지속될\\n것이나 세부 내용은 다음과 같은 차별성을 보일 전망\\n∙  ... 금융의 성장 가능\\n성 등을 감안할 때 혁신기업 M&A 시장도 크게 성장할 분야\\n2) 자산관리서비스\\n자산관리서비스는 모든 규모의 증권사에 걸쳐 주력 비즈니스로 자리매\\n김할 것이나, 결국 업권 내, 업권 간, 업종 간 경쟁이 심화되어 IT\\n설비를 갖춘 소수의 ... 저성장·저금리 추세 속에서 추가적인 한계수익률을 얻기 위한 투자\\n상품 관리 수요 증가\\n∙ 자산관리서비스에 실물자산 및 금융부채의 자문·관리 서비스 추가\\n∙ 다만, 로보어드바이저 등 IT 기술과의 접목, 경쟁 심화로 관리서비스\\n수수료율은 지속적 ...']]"
      ]
     },
     "execution_count": 23,
     "metadata": {},
     "output_type": "execute_result"
    }
   ],
   "source": [
    "contexts_predictions = []\n",
    "for i in range(len(top_context_indices)):\n",
    "    index = top_context_indices[i]\n",
    "    contexts_predictions.append([rag_data['contexts'][i][index]])\n",
    "contexts_predictions\n",
    "# contexts_predictions list: 위에서 만든 top_context_indices의 인덱스에 해당하는 각 context 반환 후 저장된 list"
   ]
  },
  {
   "cell_type": "code",
   "execution_count": null,
   "metadata": {},
   "outputs": [],
   "source": [
    "print(contexts_predictions)\n",
    "print(rag_data['questions'][:10])\n",
    "print(rag_data['answers'][:10])\n",
    "print(rag_data['contexts'][:10])\n",
    "print(rag_data['contexts_answers'][:10])"
   ]
  },
  {
   "cell_type": "code",
   "execution_count": 21,
   "metadata": {},
   "outputs": [],
   "source": [
    "from ragas.llms import LangchainLLMWrapper\n",
    "from langchain_openai import ChatOpenAI\n",
    "evaluator_llm = LangchainLLMWrapper(ChatOpenAI(model=\"gpt-4o\"))\n",
    "# \"gpt-4o\" 모델 이용하여 evaluator_llm 지정.\n"
   ]
  },
  {
   "cell_type": "code",
   "execution_count": null,
   "metadata": {},
   "outputs": [
    {
     "name": "stderr",
     "output_type": "stream",
     "text": [
      "Evaluating: 100%|██████████| 10/10 [00:15<00:00,  1.53s/it]\n"
     ]
    },
    {
     "data": {
      "text/plain": [
       "{'context_recall': 0.6850}"
      ]
     },
     "execution_count": 24,
     "metadata": {},
     "output_type": "execute_result"
    }
   ],
   "source": [
    "from ragas.metrics import LLMContextRecall\n",
    "from ragas import evaluate\n",
    "from ragas.dataset_schema import SingleTurnSample, EvaluationDataset\n",
    "\n",
    "metrics = [\n",
    "    LLMContextRecall(llm=evaluator_llm), \n",
    "]\n",
    "# LLMContextRecall: 컨텍스트 품질 평가하는 matric.\n",
    "# evaluateor_llm: 평가에 사용되는 LLM\n",
    "\n",
    "samples = []\n",
    "for question, context, answer in zip(rag_data['questions'][:num_questions], contexts_predictions, rag_data['answers'][:num_questions]):\n",
    "    # zip()을 통해 rag_data['questions'][:num_questions], contexts_predictions, rag_data['answers'][:num_questions]에서 한 아이템 씩 가져와\n",
    "    #(question, context, answer) 튜플로 저장.\n",
    "    sample = SingleTurnSample(\n",
    "        user_input=question,\n",
    "        reference=answer,\n",
    "        retrieved_contexts=context \n",
    "    )\n",
    "    # SingleTurnSample: 평가 위한 샘플 데이터 구조 정의하는 class. question, answer, context로 구성됨.\n",
    "    samples.append(sample)\n",
    "    # 빈 리스트 samples에 각 sample append.\n",
    "dataset = EvaluationDataset(samples)\n",
    "# samples list를 EvaluationDataset 객체로 변환. \n",
    "score = evaluate(dataset, metrics=metrics)\n",
    "# dataset를 metrics로 평가하여 evaluation score반환.\n",
    "score\n"
   ]
  }
 ],
 "metadata": {
  "kernelspec": {
   "display_name": "venv",
   "language": "python",
   "name": "python3"
  },
  "language_info": {
   "codemirror_mode": {
    "name": "ipython",
    "version": 3
   },
   "file_extension": ".py",
   "mimetype": "text/x-python",
   "name": "python",
   "nbconvert_exporter": "python",
   "pygments_lexer": "ipython3",
   "version": "3.12.4"
  }
 },
 "nbformat": 4,
 "nbformat_minor": 2
}
